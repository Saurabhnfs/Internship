{
 "cells": [
  {
   "cell_type": "code",
   "execution_count": 24,
   "id": "8f78a59e",
   "metadata": {},
   "outputs": [],
   "source": [
    "import selenium\n",
    "import pandas as pd\n",
    "from selenium import webdriver\n",
    "import warnings\n",
    "warnings.filterwarnings('ignore')\n",
    "from selenium.webdriver.common.by import By\n",
    "import time"
   ]
  },
  {
   "cell_type": "markdown",
   "id": "f2cc664a",
   "metadata": {},
   "source": [
    "# Q1: Write a python program to scrape data for “Data Analyst” Job position in “Bangalore” location. You have to scrape the job-title, job-location, company_name, experience_required. You have to scrape first 10 jobs data.\n",
    "This task will be done in following steps:\n",
    "1. First get the webpage https://www.shine.com/\n",
    "2. Enter “Data Analyst” in “Job title, Skills” field and enter “Bangalore” in “enter the location” field.\n",
    "3. Then click the search button.\n",
    "4. Then scrape the data for the first 10 jobs results you get.\n",
    "5. Finally create a dataframe of the scraped data."
   ]
  },
  {
   "cell_type": "code",
   "execution_count": 109,
   "id": "97a3b981",
   "metadata": {},
   "outputs": [],
   "source": [
    "driver = webdriver.Chrome()"
   ]
  },
  {
   "cell_type": "code",
   "execution_count": 26,
   "id": "df172624",
   "metadata": {},
   "outputs": [],
   "source": [
    "# opening the shine page on automated chrome browser\n",
    "driver.get(\"https://www.shine.com/\")"
   ]
  },
  {
   "cell_type": "code",
   "execution_count": 29,
   "id": "3b0dd0aa",
   "metadata": {},
   "outputs": [],
   "source": [
    "# entering designation and location\n",
    "designation = driver.find_element(By.CLASS_NAME,\"form-control  \")\n",
    "designation.send_keys('Data Analyst')"
   ]
  },
  {
   "cell_type": "code",
   "execution_count": 30,
   "id": "5e9685a4",
   "metadata": {},
   "outputs": [],
   "source": [
    "location = driver.find_element(By.XPATH,\"/html/body/div[1]/div[4]/div/div[2]/div[2]/div/form/div/div[1]/ul/li[2]/div/input\")\n",
    "location.send_keys('Bangalore')"
   ]
  },
  {
   "cell_type": "code",
   "execution_count": 33,
   "id": "0bed73e3",
   "metadata": {},
   "outputs": [],
   "source": [
    "search = driver.find_element(By.XPATH,\"/html/body/div[1]/div[4]/div/div[2]/div[2]/div/form/div/div[2]/div/button\")\n",
    "search.click()"
   ]
  },
  {
   "cell_type": "code",
   "execution_count": 34,
   "id": "f936c4da",
   "metadata": {},
   "outputs": [],
   "source": [
    "# Creating empty lists\n",
    "job_title = []\n",
    "job_location = []\n",
    "company_name = []\n",
    "experience_required = []"
   ]
  },
  {
   "cell_type": "code",
   "execution_count": 35,
   "id": "f194a47b",
   "metadata": {},
   "outputs": [],
   "source": [
    "# scrapping job title from the given page\n",
    "title_tags = driver.find_elements(By.XPATH,'//h2[@itemprop=\"name\"]')\n",
    "for i in title_tags[0:10]:\n",
    "    title=i.text\n",
    "    job_title.append(title)"
   ]
  },
  {
   "cell_type": "code",
   "execution_count": 36,
   "id": "ed91a743",
   "metadata": {},
   "outputs": [],
   "source": [
    "# scrapping job location form the given page\n",
    "location_tags = driver.find_elements(By.XPATH,'//div[@class=\" jobCard_jobCard_lists_item__YxRkV jobCard_locationIcon__zrWt2\"]')\n",
    "for i in location_tags[0:10]:\n",
    "    location=i.text\n",
    "    job_location.append(location)"
   ]
  },
  {
   "cell_type": "code",
   "execution_count": 37,
   "id": "f00ab6bd",
   "metadata": {},
   "outputs": [],
   "source": [
    "# scrapping company name from the given page\n",
    "company_tags = driver.find_elements(By.XPATH,'//div[@class=\"jobCard_jobCard_cName__mYnow\"]')\n",
    "for i in company_tags[0:10]:\n",
    "    company=i.text\n",
    "    company_name.append(company)"
   ]
  },
  {
   "cell_type": "code",
   "execution_count": 38,
   "id": "3693c08e",
   "metadata": {},
   "outputs": [],
   "source": [
    "#scrapping experience from the given page\n",
    "experience_tags = driver.find_elements(By.XPATH,'//div[@class=\" jobCard_jobCard_lists_item__YxRkV jobCard_jobIcon__3FB1t\"]')\n",
    "for i in experience_tags[0:10]:\n",
    "    experience=i.text\n",
    "    experience_required.append(experience)"
   ]
  },
  {
   "cell_type": "code",
   "execution_count": 39,
   "id": "028ed3cb",
   "metadata": {},
   "outputs": [
    {
     "name": "stdout",
     "output_type": "stream",
     "text": [
      "10 10 10 10\n"
     ]
    }
   ],
   "source": [
    "print(len(job_title),len(job_location),len(company_name),len(experience_required))"
   ]
  },
  {
   "cell_type": "code",
   "execution_count": 40,
   "id": "753cdfb8",
   "metadata": {},
   "outputs": [
    {
     "data": {
      "text/html": [
       "<div>\n",
       "<style scoped>\n",
       "    .dataframe tbody tr th:only-of-type {\n",
       "        vertical-align: middle;\n",
       "    }\n",
       "\n",
       "    .dataframe tbody tr th {\n",
       "        vertical-align: top;\n",
       "    }\n",
       "\n",
       "    .dataframe thead th {\n",
       "        text-align: right;\n",
       "    }\n",
       "</style>\n",
       "<table border=\"1\" class=\"dataframe\">\n",
       "  <thead>\n",
       "    <tr style=\"text-align: right;\">\n",
       "      <th></th>\n",
       "      <th>Title</th>\n",
       "      <th>Location</th>\n",
       "      <th>Company</th>\n",
       "      <th>Experience</th>\n",
       "    </tr>\n",
       "  </thead>\n",
       "  <tbody>\n",
       "    <tr>\n",
       "      <th>0</th>\n",
       "      <td>Technical Data Analyst</td>\n",
       "      <td>Bangalore\\n+9</td>\n",
       "      <td>krishna consultancy.. hiring for co...</td>\n",
       "      <td>4 to 9 Yrs</td>\n",
       "    </tr>\n",
       "    <tr>\n",
       "      <th>1</th>\n",
       "      <td>opening data analyst -Bangalore</td>\n",
       "      <td>Bangalore</td>\n",
       "      <td>provizor it services pvt. ltd.</td>\n",
       "      <td>2 to 5 Yrs</td>\n",
       "    </tr>\n",
       "    <tr>\n",
       "      <th>2</th>\n",
       "      <td></td>\n",
       "      <td>Bangalore</td>\n",
       "      <td></td>\n",
       "      <td></td>\n",
       "    </tr>\n",
       "    <tr>\n",
       "      <th>3</th>\n",
       "      <td></td>\n",
       "      <td>Bangalore</td>\n",
       "      <td></td>\n",
       "      <td></td>\n",
       "    </tr>\n",
       "    <tr>\n",
       "      <th>4</th>\n",
       "      <td></td>\n",
       "      <td>Bangalore</td>\n",
       "      <td></td>\n",
       "      <td></td>\n",
       "    </tr>\n",
       "    <tr>\n",
       "      <th>5</th>\n",
       "      <td></td>\n",
       "      <td></td>\n",
       "      <td></td>\n",
       "      <td></td>\n",
       "    </tr>\n",
       "    <tr>\n",
       "      <th>6</th>\n",
       "      <td></td>\n",
       "      <td></td>\n",
       "      <td></td>\n",
       "      <td></td>\n",
       "    </tr>\n",
       "    <tr>\n",
       "      <th>7</th>\n",
       "      <td></td>\n",
       "      <td></td>\n",
       "      <td></td>\n",
       "      <td></td>\n",
       "    </tr>\n",
       "    <tr>\n",
       "      <th>8</th>\n",
       "      <td></td>\n",
       "      <td>Bangalore</td>\n",
       "      <td></td>\n",
       "      <td></td>\n",
       "    </tr>\n",
       "    <tr>\n",
       "      <th>9</th>\n",
       "      <td></td>\n",
       "      <td>Bangalore</td>\n",
       "      <td></td>\n",
       "      <td></td>\n",
       "    </tr>\n",
       "  </tbody>\n",
       "</table>\n",
       "</div>"
      ],
      "text/plain": [
       "                             Title       Location  \\\n",
       "0           Technical Data Analyst  Bangalore\\n+9   \n",
       "1  opening data analyst -Bangalore      Bangalore   \n",
       "2                                       Bangalore   \n",
       "3                                       Bangalore   \n",
       "4                                       Bangalore   \n",
       "5                                                   \n",
       "6                                                   \n",
       "7                                                   \n",
       "8                                       Bangalore   \n",
       "9                                       Bangalore   \n",
       "\n",
       "                                  Company  Experience  \n",
       "0  krishna consultancy.. hiring for co...  4 to 9 Yrs  \n",
       "1          provizor it services pvt. ltd.  2 to 5 Yrs  \n",
       "2                                                      \n",
       "3                                                      \n",
       "4                                                      \n",
       "5                                                      \n",
       "6                                                      \n",
       "7                                                      \n",
       "8                                                      \n",
       "9                                                      "
      ]
     },
     "execution_count": 40,
     "metadata": {},
     "output_type": "execute_result"
    }
   ],
   "source": [
    "df=pd.DataFrame({'Title':job_title,'Location':job_location,'Company':company_name,'Experience':experience_required})\n",
    "df"
   ]
  },
  {
   "cell_type": "markdown",
   "id": "6e398b4c",
   "metadata": {},
   "source": [
    "# Q2: Write a python program to scrape data for “Data Scientist” Job position in “Bangalore” location. You have to scrape the job-title, job-location, company_name. You have to scrape first 10 jobs data.\n",
    "This task will be done in following steps:\n",
    "1. First get the webpage https://www.shine.com/\n",
    "2. Enter “Data Scientist” in “Job title, Skills” field and enter “Bangalore” in “enter the location” field.\n",
    "3. Then click the search button.\n",
    "4. Then scrape the data for the first 10 jobs results you get.\n",
    "5. Finally create a dataframe of the scraped data."
   ]
  },
  {
   "cell_type": "code",
   "execution_count": 42,
   "id": "e6f4654e",
   "metadata": {},
   "outputs": [],
   "source": [
    "# opening the shine page on automated chrome browser\n",
    "driver.get(\"https://www.shine.com/\")"
   ]
  },
  {
   "cell_type": "code",
   "execution_count": 46,
   "id": "cd85e772",
   "metadata": {},
   "outputs": [],
   "source": [
    "# entering designation and location\n",
    "designation = driver.find_element(By.CLASS_NAME,\"form-control  \")\n",
    "designation.send_keys('Data Scientist')"
   ]
  },
  {
   "cell_type": "code",
   "execution_count": 47,
   "id": "e9cf3dd4",
   "metadata": {},
   "outputs": [],
   "source": [
    "location = driver.find_element(By.XPATH,\"/html/body/div[1]/div[4]/div/div[2]/div[2]/div/form/div/div[1]/ul/li[2]/div/input\")\n",
    "location.send_keys('Bangalore')"
   ]
  },
  {
   "cell_type": "code",
   "execution_count": 50,
   "id": "73d3af3f",
   "metadata": {},
   "outputs": [],
   "source": [
    "# use to search button to get the results\n",
    "search = driver.find_element(By.XPATH,\"/html/body/div[1]/div[4]/div/div[2]/div[2]/div[1]/form/div/div[2]/div/button\")\n",
    "search.click()"
   ]
  },
  {
   "cell_type": "code",
   "execution_count": 51,
   "id": "1d588c75",
   "metadata": {},
   "outputs": [],
   "source": [
    "# Creating empty lists\n",
    "j_title = []\n",
    "j_location = []\n",
    "c_name = []"
   ]
  },
  {
   "cell_type": "code",
   "execution_count": 52,
   "id": "1dcee029",
   "metadata": {},
   "outputs": [],
   "source": [
    "# scrapping job title from the given page\n",
    "title_tags = driver.find_elements(By.XPATH,'//h2[@itemprop=\"name\"]')\n",
    "for i in title_tags[0:10]:\n",
    "    title=i.text\n",
    "    j_title.append(title)"
   ]
  },
  {
   "cell_type": "code",
   "execution_count": 53,
   "id": "59de4397",
   "metadata": {},
   "outputs": [],
   "source": [
    "# scrapping job location form the given page\n",
    "location_tags = driver.find_elements(By.XPATH,'//div[@class=\" jobCard_jobCard_lists_item__YxRkV jobCard_locationIcon__zrWt2\"]')\n",
    "for i in location_tags[0:10]:\n",
    "    location=i.text\n",
    "    j_location.append(location)"
   ]
  },
  {
   "cell_type": "code",
   "execution_count": 54,
   "id": "810745f3",
   "metadata": {},
   "outputs": [],
   "source": [
    "# scrapping company name from the given page\n",
    "company_tags = driver.find_elements(By.XPATH,'//div[@class=\"jobCard_jobCard_cName__mYnow\"]')\n",
    "for i in company_tags[0:10]:\n",
    "    company=i.text\n",
    "    c_name.append(company)"
   ]
  },
  {
   "cell_type": "code",
   "execution_count": 55,
   "id": "9f830584",
   "metadata": {},
   "outputs": [
    {
     "name": "stdout",
     "output_type": "stream",
     "text": [
      "10 10 10\n"
     ]
    }
   ],
   "source": [
    "print(len(j_title),len(j_location),len(c_name))"
   ]
  },
  {
   "cell_type": "code",
   "execution_count": 56,
   "id": "86569468",
   "metadata": {},
   "outputs": [
    {
     "data": {
      "text/html": [
       "<div>\n",
       "<style scoped>\n",
       "    .dataframe tbody tr th:only-of-type {\n",
       "        vertical-align: middle;\n",
       "    }\n",
       "\n",
       "    .dataframe tbody tr th {\n",
       "        vertical-align: top;\n",
       "    }\n",
       "\n",
       "    .dataframe thead th {\n",
       "        text-align: right;\n",
       "    }\n",
       "</style>\n",
       "<table border=\"1\" class=\"dataframe\">\n",
       "  <thead>\n",
       "    <tr style=\"text-align: right;\">\n",
       "      <th></th>\n",
       "      <th>Title</th>\n",
       "      <th>Location</th>\n",
       "      <th>Company</th>\n",
       "    </tr>\n",
       "  </thead>\n",
       "  <tbody>\n",
       "    <tr>\n",
       "      <th>0</th>\n",
       "      <td>Data Scientist</td>\n",
       "      <td>Bangalore</td>\n",
       "      <td>the fashion cosmo</td>\n",
       "    </tr>\n",
       "    <tr>\n",
       "      <th>1</th>\n",
       "      <td>SR. DATA SCIENTIST</td>\n",
       "      <td>Bangalore</td>\n",
       "      <td>te connectivity india pvt ltd</td>\n",
       "    </tr>\n",
       "    <tr>\n",
       "      <th>2</th>\n",
       "      <td>Senior Data Scientist- ML Engineer</td>\n",
       "      <td>Bangalore</td>\n",
       "      <td>sap india pvt ltd</td>\n",
       "    </tr>\n",
       "    <tr>\n",
       "      <th>3</th>\n",
       "      <td>Data Scientist III</td>\n",
       "      <td>Bangalore</td>\n",
       "      <td>inmobi</td>\n",
       "    </tr>\n",
       "    <tr>\n",
       "      <th>4</th>\n",
       "      <td>Data Scientist Hiring Fresher and Experience</td>\n",
       "      <td>Bangalore\\n+17</td>\n",
       "      <td>kavya staffing solutions</td>\n",
       "    </tr>\n",
       "    <tr>\n",
       "      <th>5</th>\n",
       "      <td>Opening for Computer executive, data typing , ...</td>\n",
       "      <td>Bangalore\\n+9</td>\n",
       "      <td>realtech solutions</td>\n",
       "    </tr>\n",
       "    <tr>\n",
       "      <th>6</th>\n",
       "      <td>Data Scientist</td>\n",
       "      <td>Bangalore\\n+6</td>\n",
       "      <td>quiscon biotech</td>\n",
       "    </tr>\n",
       "    <tr>\n",
       "      <th>7</th>\n",
       "      <td>Senior Data Scientist, AWS</td>\n",
       "      <td>Bangalore</td>\n",
       "      <td>amazon</td>\n",
       "    </tr>\n",
       "    <tr>\n",
       "      <th>8</th>\n",
       "      <td>Data Scientist Recruitment</td>\n",
       "      <td>Bangalore\\n+17</td>\n",
       "      <td>kavya staffing solutions</td>\n",
       "    </tr>\n",
       "    <tr>\n",
       "      <th>9</th>\n",
       "      <td>Data Engineer II, Amazon WFM Tech Enterprise Data</td>\n",
       "      <td>Bangalore</td>\n",
       "      <td>amazon</td>\n",
       "    </tr>\n",
       "  </tbody>\n",
       "</table>\n",
       "</div>"
      ],
      "text/plain": [
       "                                               Title        Location  \\\n",
       "0                                     Data Scientist       Bangalore   \n",
       "1                                 SR. DATA SCIENTIST       Bangalore   \n",
       "2                 Senior Data Scientist- ML Engineer       Bangalore   \n",
       "3                                 Data Scientist III       Bangalore   \n",
       "4       Data Scientist Hiring Fresher and Experience  Bangalore\\n+17   \n",
       "5  Opening for Computer executive, data typing , ...   Bangalore\\n+9   \n",
       "6                                     Data Scientist   Bangalore\\n+6   \n",
       "7                         Senior Data Scientist, AWS       Bangalore   \n",
       "8                         Data Scientist Recruitment  Bangalore\\n+17   \n",
       "9  Data Engineer II, Amazon WFM Tech Enterprise Data       Bangalore   \n",
       "\n",
       "                         Company  \n",
       "0              the fashion cosmo  \n",
       "1  te connectivity india pvt ltd  \n",
       "2              sap india pvt ltd  \n",
       "3                         inmobi  \n",
       "4       kavya staffing solutions  \n",
       "5             realtech solutions  \n",
       "6                quiscon biotech  \n",
       "7                         amazon  \n",
       "8       kavya staffing solutions  \n",
       "9                         amazon  "
      ]
     },
     "execution_count": 56,
     "metadata": {},
     "output_type": "execute_result"
    }
   ],
   "source": [
    "df = pd.DataFrame({'Title':j_title,'Location':j_location,'Company':c_name})\n",
    "df"
   ]
  },
  {
   "cell_type": "markdown",
   "id": "132bc3be",
   "metadata": {},
   "source": [
    "# Q3: In this question you have to scrape data using the filters available on the webpage\n",
    "You have to use the location and salary filter.\n",
    "You have to scrape data for “Data Scientist” designation for first 10 job results.\n",
    "You have to scrape the job-title, job-location, company name, experience required. The location filter to be used is “Delhi/NCR”. The salary filter to be used is “3-6” lakhs\n",
    "The task will be done as shown in the below steps:\n",
    "1. first get the web page https://www.shine.com/\n",
    "2. Enter “Data Scientist” in “Skill, Designations, and Companies” field.\n",
    "3. Then click the search button.\n",
    "4. Then apply the location filter and salary filter by checking the respective boxes\n",
    "5. Then scrape the data for the first 10 jobs results you get.\n",
    "6. Finally create a dataframe of the scraped data."
   ]
  },
  {
   "cell_type": "code",
   "execution_count": 58,
   "id": "1c5520ce",
   "metadata": {},
   "outputs": [],
   "source": [
    "# opening the shine page on automated chrome browser\n",
    "driver.get(\"https://www.shine.com/\")"
   ]
  },
  {
   "cell_type": "code",
   "execution_count": 63,
   "id": "5eadcc64",
   "metadata": {},
   "outputs": [],
   "source": [
    "# entering designation and location\n",
    "designation = driver.find_element(By.CLASS_NAME,\"form-control  \")\n",
    "designation.send_keys('Data Scientist')"
   ]
  },
  {
   "cell_type": "code",
   "execution_count": 64,
   "id": "da629ef4",
   "metadata": {},
   "outputs": [],
   "source": [
    "location = driver.find_element(By.XPATH,\"/html/body/div[1]/div[4]/div/div[2]/div[2]/div/form/div/div[1]/ul/li[2]/div/input\")\n",
    "location.send_keys('Delhi/NCR')"
   ]
  },
  {
   "cell_type": "code",
   "execution_count": 69,
   "id": "d658e070",
   "metadata": {},
   "outputs": [],
   "source": [
    "salary = driver.find_element(By.XPATH,\"/html/body/div[1]/div[4]/div/div[2]/div[2]/div[1]/form/div/div[1]/ul[2]/li[1]/div/input[1]\")\n",
    "salary.send_keys('3-6')"
   ]
  },
  {
   "cell_type": "code",
   "execution_count": 70,
   "id": "221abb53",
   "metadata": {},
   "outputs": [],
   "source": [
    "# use to search button to get the results\n",
    "search = driver.find_element(By.XPATH,\"/html/body/div[1]/div[4]/div/div[2]/div[2]/div[1]/form/div/div[2]/div/button\")\n",
    "search.click()"
   ]
  },
  {
   "cell_type": "code",
   "execution_count": 71,
   "id": "4952e2ed",
   "metadata": {},
   "outputs": [],
   "source": [
    "# Creating empty lists\n",
    "title = []\n",
    "location = []\n",
    "name = []\n",
    "ex_required = []"
   ]
  },
  {
   "cell_type": "code",
   "execution_count": 72,
   "id": "ecb15afe",
   "metadata": {},
   "outputs": [],
   "source": [
    "# scrapping job title from the given page\n",
    "title_tags = driver.find_elements(By.XPATH,'//h2[@itemprop=\"name\"]')\n",
    "for i in title_tags[0:10]:\n",
    "    t=i.text\n",
    "    title.append(t)"
   ]
  },
  {
   "cell_type": "code",
   "execution_count": 73,
   "id": "f7082231",
   "metadata": {},
   "outputs": [],
   "source": [
    "# scrapping job location form the given page\n",
    "location_tags = driver.find_elements(By.XPATH,'//div[@class=\" jobCard_jobCard_lists_item__YxRkV jobCard_locationIcon__zrWt2\"]')\n",
    "for i in location_tags[0:10]:\n",
    "    l=i.text\n",
    "    location.append(l)"
   ]
  },
  {
   "cell_type": "code",
   "execution_count": 74,
   "id": "fcc8cda3",
   "metadata": {},
   "outputs": [],
   "source": [
    "# scrapping company name from the given page\n",
    "company_tags = driver.find_elements(By.XPATH,'//div[@class=\"jobCard_jobCard_cName__mYnow\"]')\n",
    "for i in company_tags[0:10]:\n",
    "    c=i.text\n",
    "    name.append(c)"
   ]
  },
  {
   "cell_type": "code",
   "execution_count": 75,
   "id": "2d170a7a",
   "metadata": {},
   "outputs": [],
   "source": [
    "#scrapping experience from the given page\n",
    "experience_tags = driver.find_elements(By.XPATH,'//div[@class=\" jobCard_jobCard_lists_item__YxRkV jobCard_jobIcon__3FB1t\"]')\n",
    "for i in experience_tags[0:10]:\n",
    "    ex=i.text\n",
    "    ex_required.append(ex)"
   ]
  },
  {
   "cell_type": "code",
   "execution_count": 76,
   "id": "cb4eb293",
   "metadata": {},
   "outputs": [
    {
     "name": "stdout",
     "output_type": "stream",
     "text": [
      "10 10 10 10\n"
     ]
    }
   ],
   "source": [
    "print(len(title),len(location),len(name),len(ex_required))"
   ]
  },
  {
   "cell_type": "code",
   "execution_count": 77,
   "id": "12e9b6da",
   "metadata": {},
   "outputs": [
    {
     "data": {
      "text/html": [
       "<div>\n",
       "<style scoped>\n",
       "    .dataframe tbody tr th:only-of-type {\n",
       "        vertical-align: middle;\n",
       "    }\n",
       "\n",
       "    .dataframe tbody tr th {\n",
       "        vertical-align: top;\n",
       "    }\n",
       "\n",
       "    .dataframe thead th {\n",
       "        text-align: right;\n",
       "    }\n",
       "</style>\n",
       "<table border=\"1\" class=\"dataframe\">\n",
       "  <thead>\n",
       "    <tr style=\"text-align: right;\">\n",
       "      <th></th>\n",
       "      <th>Title</th>\n",
       "      <th>Location</th>\n",
       "      <th>Company</th>\n",
       "      <th>Experience</th>\n",
       "    </tr>\n",
       "  </thead>\n",
       "  <tbody>\n",
       "    <tr>\n",
       "      <th>0</th>\n",
       "      <td>Data Scientist</td>\n",
       "      <td>Australia\\n+10</td>\n",
       "      <td>vaishnavi services</td>\n",
       "      <td>14 to 24 Yrs</td>\n",
       "    </tr>\n",
       "    <tr>\n",
       "      <th>1</th>\n",
       "      <td>Data Scientist Mumbai</td>\n",
       "      <td>Mumbai City</td>\n",
       "      <td>morpheus human consulting pvt ltd</td>\n",
       "      <td>2 to 7 Yrs</td>\n",
       "    </tr>\n",
       "    <tr>\n",
       "      <th>2</th>\n",
       "      <td>Data Scientist</td>\n",
       "      <td>Bangalore</td>\n",
       "      <td>the fashion cosmo</td>\n",
       "      <td>0 to 4 Yrs</td>\n",
       "    </tr>\n",
       "    <tr>\n",
       "      <th>3</th>\n",
       "      <td>SR. DATA SCIENTIST</td>\n",
       "      <td>Bangalore</td>\n",
       "      <td>te connectivity india pvt ltd</td>\n",
       "      <td>5 to 7 Yrs</td>\n",
       "    </tr>\n",
       "    <tr>\n",
       "      <th>4</th>\n",
       "      <td>Senior Data Scientist- ML Engineer</td>\n",
       "      <td>Bangalore</td>\n",
       "      <td>sap india pvt ltd</td>\n",
       "      <td>5 to 7 Yrs</td>\n",
       "    </tr>\n",
       "    <tr>\n",
       "      <th>5</th>\n",
       "      <td>Hire DATA SCIENTIST- MIS EXECUTIVE</td>\n",
       "      <td>Mumbai City</td>\n",
       "      <td>h k jewels private limited</td>\n",
       "      <td>4 to 6 Yrs</td>\n",
       "    </tr>\n",
       "    <tr>\n",
       "      <th>6</th>\n",
       "      <td>Need now for Data Scientist - MIS Executive</td>\n",
       "      <td>Mumbai City</td>\n",
       "      <td>h k jewels private limited</td>\n",
       "      <td>4 to 6 Yrs</td>\n",
       "    </tr>\n",
       "    <tr>\n",
       "      <th>7</th>\n",
       "      <td>need Data Scientist MIS Executive</td>\n",
       "      <td>Mumbai City</td>\n",
       "      <td>h k jewels private limited</td>\n",
       "      <td>4 to 6 Yrs</td>\n",
       "    </tr>\n",
       "    <tr>\n",
       "      <th>8</th>\n",
       "      <td>Urgently Required Data Scientist - MIS Executive</td>\n",
       "      <td>Mumbai City</td>\n",
       "      <td>h k jewels private limited</td>\n",
       "      <td>4 to 6 Yrs</td>\n",
       "    </tr>\n",
       "    <tr>\n",
       "      <th>9</th>\n",
       "      <td>Data Scientist III</td>\n",
       "      <td>Bangalore</td>\n",
       "      <td>inmobi</td>\n",
       "      <td>7 to 9 Yrs</td>\n",
       "    </tr>\n",
       "  </tbody>\n",
       "</table>\n",
       "</div>"
      ],
      "text/plain": [
       "                                              Title        Location  \\\n",
       "0                                    Data Scientist  Australia\\n+10   \n",
       "1                             Data Scientist Mumbai     Mumbai City   \n",
       "2                                    Data Scientist       Bangalore   \n",
       "3                                SR. DATA SCIENTIST       Bangalore   \n",
       "4                Senior Data Scientist- ML Engineer       Bangalore   \n",
       "5                Hire DATA SCIENTIST- MIS EXECUTIVE     Mumbai City   \n",
       "6       Need now for Data Scientist - MIS Executive     Mumbai City   \n",
       "7                 need Data Scientist MIS Executive     Mumbai City   \n",
       "8  Urgently Required Data Scientist - MIS Executive     Mumbai City   \n",
       "9                                Data Scientist III       Bangalore   \n",
       "\n",
       "                             Company    Experience  \n",
       "0                 vaishnavi services  14 to 24 Yrs  \n",
       "1  morpheus human consulting pvt ltd    2 to 7 Yrs  \n",
       "2                  the fashion cosmo    0 to 4 Yrs  \n",
       "3      te connectivity india pvt ltd    5 to 7 Yrs  \n",
       "4                  sap india pvt ltd    5 to 7 Yrs  \n",
       "5         h k jewels private limited    4 to 6 Yrs  \n",
       "6         h k jewels private limited    4 to 6 Yrs  \n",
       "7         h k jewels private limited    4 to 6 Yrs  \n",
       "8         h k jewels private limited    4 to 6 Yrs  \n",
       "9                             inmobi    7 to 9 Yrs  "
      ]
     },
     "execution_count": 77,
     "metadata": {},
     "output_type": "execute_result"
    }
   ],
   "source": [
    "df = pd.DataFrame({'Title':title,'Location':location,'Company':name,'Experience':ex_required})\n",
    "df"
   ]
  },
  {
   "cell_type": "markdown",
   "id": "c4ad2491",
   "metadata": {},
   "source": [
    "# Q4: Scrape data of first 100 sunglasses listings on flipkart.com. You have to scrape four attributes:\n",
    "6. Brand\n",
    "7. Product Description\n",
    "8. Price\n",
    "The attributes which you have to scrape is ticked marked in the below image.\n",
    "To scrape the data you have to go through following steps:\n",
    "1. Go to Flipkart webpage by url : https://www.flipkart.com/\n",
    "2. Enter “sunglasses” in the search field where “search for products, brands and more” is written and click the search icon\n",
    "3. After that you will reach to the page having a lot of sunglasses. From this page you can scrap the required data as usual.\n",
    "4. After scraping data from the first page, go to the “Next” Button at the bottom other page , then\n",
    "click on it.\n",
    "5. Now scrape data from this page as usual\n",
    "6. Repeat this until you get data for 100sunglasses."
   ]
  },
  {
   "cell_type": "code",
   "execution_count": 78,
   "id": "42e765e4",
   "metadata": {},
   "outputs": [],
   "source": [
    "# opening the flipkart page on automated chrome browser\n",
    "driver.get(\"https://www.flipkart.com/\")"
   ]
  },
  {
   "cell_type": "code",
   "execution_count": 81,
   "id": "1d65693a",
   "metadata": {},
   "outputs": [],
   "source": [
    "# searching for sunglasses\n",
    "glasses = driver.find_element(By.CLASS_NAME,\"Pke_EE\")\n",
    "glasses.send_keys('sunglasses')"
   ]
  },
  {
   "cell_type": "code",
   "execution_count": 82,
   "id": "1d309619",
   "metadata": {},
   "outputs": [],
   "source": [
    "# use to search button to get the results\n",
    "search = driver.find_element(By.XPATH,\"/html/body/div[1]/div/div[1]/div/div/div/div/div[1]/div/div[1]/div/div[1]/header/div[1]/div[2]/form/div/button\")\n",
    "search.click()"
   ]
  },
  {
   "cell_type": "code",
   "execution_count": 83,
   "id": "56900ad1",
   "metadata": {},
   "outputs": [],
   "source": [
    "# creating empty lists\n",
    "Sponsor = []\n",
    "discription = []\n",
    "price = []\n",
    "discount = []"
   ]
  },
  {
   "cell_type": "code",
   "execution_count": 144,
   "id": "ab278fd2",
   "metadata": {},
   "outputs": [],
   "source": [
    "# scrapping sponsors from the given page\n",
    "start=0\n",
    "end=3\n",
    "for page in range(start,end):\n",
    "    glass_sponsor=driver.find_elements(By.XPATH,'//div[@class=\"_2WkVRV\"]')\n",
    "    for i in glass_sponsor:\n",
    "        Sponsor.append(i.text)\n",
    "    button=driver.find_element(By.XPATH,'//a[@class=\"_1LKTO3\"]') # to scrape data from next page\n",
    "    button.click()\n",
    "    time.sleep(3)"
   ]
  },
  {
   "cell_type": "code",
   "execution_count": 145,
   "id": "25b414f6",
   "metadata": {},
   "outputs": [],
   "source": [
    "# scrapping discription from the given page\n",
    "start=0\n",
    "end=3\n",
    "for page in range(start,end):\n",
    "    glass_discription=driver.find_elements(By.XPATH,'//a[@class=\"IRpwTa\"]')\n",
    "    for i in glass_discription:\n",
    "        discription.append(i.text)\n",
    "    button=driver.find_element(By.XPATH,'//a[@class=\"_1LKTO3\"]') # to scrape data from next page\n",
    "    button.click()\n",
    "    time.sleep(3)"
   ]
  },
  {
   "cell_type": "code",
   "execution_count": 146,
   "id": "ba56571f",
   "metadata": {},
   "outputs": [],
   "source": [
    "# scrapping price from the given page\n",
    "start=0\n",
    "end=3\n",
    "for page in range(start,end):\n",
    "    glass_price=driver.find_elements(By.XPATH,'//div[@class=\"_30jeq3\"]')\n",
    "    for i in glass_price:\n",
    "        price.append(i.text)\n",
    "    button=driver.find_element(By.XPATH,'//a[@class=\"_1LKTO3\"]') # to scrape data from next page\n",
    "    button.click()\n",
    "    time.sleep(3)"
   ]
  },
  {
   "cell_type": "code",
   "execution_count": 147,
   "id": "378f653b",
   "metadata": {},
   "outputs": [],
   "source": [
    "# scrapping discount from the given page\n",
    "start=0\n",
    "end=3\n",
    "for page in range(start,end):\n",
    "    glass_discount=driver.find_elements(By.XPATH,'//div[@class=\"_3Ay6Sb\"]')\n",
    "    for i in glass_discount:\n",
    "        discount.append(i.text)\n",
    "    button=driver.find_element(By.XPATH,'//a[@class=\"_1LKTO3\"]') # to scrape data from next page\n",
    "    button.click()\n",
    "    time.sleep(3)"
   ]
  },
  {
   "cell_type": "code",
   "execution_count": 148,
   "id": "9aeeba3e",
   "metadata": {},
   "outputs": [
    {
     "name": "stdout",
     "output_type": "stream",
     "text": [
      "310 152 160 160\n"
     ]
    }
   ],
   "source": [
    "print(len(Sponsor),len(discription),len(price),len(discount))"
   ]
  },
  {
   "cell_type": "markdown",
   "id": "aefa68db",
   "metadata": {},
   "source": [
    "# Q5: Scrape 100 reviews data from flipkart.com for iphone11 phone. You have to go the link: https://www.flipkart.com/apple-iphone-11-black-64-gb/product- reviews/itm4e5041ba101fd?pid=MOBFWQ6BXGJCEYNY&lid=LSTMOBFWQ6BXGJCEYNYZXSHRJ&market place=FLIPKART\n",
    "As shown in the above page you have to scrape the tick marked attributes. These are:\n",
    "1. Rating\n",
    "2. Review summary\n",
    "3. Full review\n",
    "4. You have to scrape this data for first 100reviews."
   ]
  },
  {
   "cell_type": "code",
   "execution_count": 102,
   "id": "e6c8d8b5",
   "metadata": {},
   "outputs": [],
   "source": [
    "# opening the flipkart page on automated chrome browser\n",
    "driver.get(\"https://www.flipkart.com/apple-iphone-11-black-64-gb/product- reviews/itm4e5041ba101fd?pid=MOBFWQ6BXGJCEYNY&lid=LSTMOBFWQ6BXGJCEYNYZXSHRJ&market place=FLIPKART\")"
   ]
  },
  {
   "cell_type": "markdown",
   "id": "610630aa",
   "metadata": {},
   "source": [
    "# The link given for the above question is not working. it is showing \"Unfortunately the page you are looking for has been moved or deleted\""
   ]
  },
  {
   "cell_type": "markdown",
   "id": "40bd978b",
   "metadata": {},
   "source": [
    "# Q6: Scrape data for first 100 sneakers you find when you visit flipkart.com and search for “sneakers” in the search field.\n",
    "You have to scrape 3 attributes of each sneaker:\n",
    "1. Brand\n",
    "2. Product Description\n",
    "3. Price\n",
    "As shown in the below image, you have to scrape the above attributes."
   ]
  },
  {
   "cell_type": "code",
   "execution_count": 116,
   "id": "c739c674",
   "metadata": {},
   "outputs": [],
   "source": [
    "driver = webdriver.Chrome()"
   ]
  },
  {
   "cell_type": "code",
   "execution_count": 117,
   "id": "982705d0",
   "metadata": {},
   "outputs": [],
   "source": [
    "# opening the flipkart page on automated chrome browser\n",
    "driver.get(\"https://www.flipkart.com/\")"
   ]
  },
  {
   "cell_type": "code",
   "execution_count": 118,
   "id": "8ce8e295",
   "metadata": {},
   "outputs": [],
   "source": [
    "# searching for sneakers\n",
    "shoes = driver.find_element(By.CLASS_NAME,\"Pke_EE\")\n",
    "shoes.send_keys('sneakers')"
   ]
  },
  {
   "cell_type": "code",
   "execution_count": 121,
   "id": "00a337cc",
   "metadata": {},
   "outputs": [],
   "source": [
    "# use to search button to get the results\n",
    "search = driver.find_element(By.XPATH,\"/html/body/div[1]/div/div[1]/div/div/div/div/div[1]/div/div[1]/div/div[1]/header/div[1]/div[2]/form/div/button\")\n",
    "search.click()"
   ]
  },
  {
   "cell_type": "code",
   "execution_count": 132,
   "id": "dc8f1337",
   "metadata": {},
   "outputs": [],
   "source": [
    "# creating empty lists\n",
    "brand = []\n",
    "product_discription = []\n",
    "sneaker_price = []"
   ]
  },
  {
   "cell_type": "code",
   "execution_count": 149,
   "id": "2ba58070",
   "metadata": {},
   "outputs": [],
   "source": [
    "# scrapping sneaker brand from the given page\n",
    "start=0\n",
    "end=3\n",
    "for page in range(start,end):\n",
    "    s_brand = driver.find_elements(By.XPATH,'//div[@class=\"_2WkVRV\"]')\n",
    "    for s in s_brand:\n",
    "        brand.append(s.text)\n",
    "    button=driver.find_element(By.XPATH,'//a[@class=\"_1LKTO3\"]') # to scrape data from next page\n",
    "    button.click()\n",
    "    time.sleep(3)"
   ]
  },
  {
   "cell_type": "code",
   "execution_count": 150,
   "id": "defa3601",
   "metadata": {},
   "outputs": [],
   "source": [
    "# scraping product description\n",
    "start=0\n",
    "end=3\n",
    "for page in range(start,end):\n",
    "    p_des = driver.find_elements(By.XPATH,'//a[@class=\"IRpwTa\"]')\n",
    "    for p in p_des:\n",
    "        product_discription.append(p.text)\n",
    "    button=driver.find_element(By.XPATH,'//a[@class=\"_1LKTO3\"]') # to scrape data from next page\n",
    "    button.click()\n",
    "    time.sleep(3)"
   ]
  },
  {
   "cell_type": "code",
   "execution_count": 151,
   "id": "03d697cb",
   "metadata": {},
   "outputs": [],
   "source": [
    "# scraping sneaker price\n",
    "start=0\n",
    "end=3\n",
    "for page in range(start,end):\n",
    "    s_price = driver.find_elements(By.XPATH,'//div[@class=\"_30jeq3\"]')\n",
    "    for i in s_price:\n",
    "        sneaker_price.append(i.text)\n",
    "    button=driver.find_element(By.XPATH,'//a[@class=\"_1LKTO3\"]') # to scrape data from next page\n",
    "    button.click()\n",
    "    time.sleep(3)"
   ]
  },
  {
   "cell_type": "code",
   "execution_count": 152,
   "id": "309eb498",
   "metadata": {},
   "outputs": [
    {
     "name": "stdout",
     "output_type": "stream",
     "text": [
      "160 154 160\n"
     ]
    }
   ],
   "source": [
    "print(len(brand),len(product_discription),len(sneaker_price))"
   ]
  },
  {
   "cell_type": "markdown",
   "id": "87a72c86",
   "metadata": {},
   "source": [
    "# Q7: Go to webpage https://www.amazon.in/ Enter “Laptop” in the search field and then click the search icon. Then set CPU Type filter to “Intel Core i7” as shown in the below image:\n",
    "After setting the filters scrape first 10 laptops data. You have to scrape 3 attributes for each laptop:\n",
    "1. Title\n",
    "2. Ratings\n",
    "3. Price"
   ]
  },
  {
   "cell_type": "code",
   "execution_count": 171,
   "id": "21ea97ff",
   "metadata": {},
   "outputs": [],
   "source": [
    "driver = webdriver.Chrome()"
   ]
  },
  {
   "cell_type": "code",
   "execution_count": 172,
   "id": "1ebe3718",
   "metadata": {},
   "outputs": [],
   "source": [
    "# opening the amazon page on automated chrome browser\n",
    "driver.get(\"https://www.amazon.in/\")"
   ]
  },
  {
   "cell_type": "code",
   "execution_count": 181,
   "id": "8a62bf1a",
   "metadata": {},
   "outputs": [
    {
     "ename": "ElementNotInteractableException",
     "evalue": "Message: element not interactable\n  (Session info: chrome=117.0.5938.92)\nStacktrace:\n\tGetHandleVerifier [0x00007FF67D3D7892+54818]\n\t(No symbol) [0x00007FF67D346AC2]\n\t(No symbol) [0x00007FF67D1FD8ED]\n\t(No symbol) [0x00007FF67D239967]\n\t(No symbol) [0x00007FF67D238CD4]\n\t(No symbol) [0x00007FF67D25EAAA]\n\t(No symbol) [0x00007FF67D235036]\n\t(No symbol) [0x00007FF67D25ECC0]\n\t(No symbol) [0x00007FF67D2775A2]\n\t(No symbol) [0x00007FF67D25E883]\n\t(No symbol) [0x00007FF67D233691]\n\t(No symbol) [0x00007FF67D2348D4]\n\tGetHandleVerifier [0x00007FF67D73B992+3610402]\n\tGetHandleVerifier [0x00007FF67D791860+3962352]\n\tGetHandleVerifier [0x00007FF67D789D4F+3930847]\n\tGetHandleVerifier [0x00007FF67D473646+693206]\n\t(No symbol) [0x00007FF67D351628]\n\t(No symbol) [0x00007FF67D34D934]\n\t(No symbol) [0x00007FF67D34DA62]\n\t(No symbol) [0x00007FF67D33E113]\n\tBaseThreadInitThunk [0x00007FF8068A7344+20]\n\tRtlUserThreadStart [0x00007FF8088826B1+33]\n",
     "output_type": "error",
     "traceback": [
      "\u001b[1;31m---------------------------------------------------------------------------\u001b[0m",
      "\u001b[1;31mElementNotInteractableException\u001b[0m           Traceback (most recent call last)",
      "\u001b[1;32m~\\AppData\\Local\\Temp\\ipykernel_14348\\880478645.py\u001b[0m in \u001b[0;36m<module>\u001b[1;34m\u001b[0m\n\u001b[0;32m      1\u001b[0m \u001b[1;31m# searching for laptops\u001b[0m\u001b[1;33m\u001b[0m\u001b[1;33m\u001b[0m\u001b[0m\n\u001b[0;32m      2\u001b[0m \u001b[0mlappy\u001b[0m \u001b[1;33m=\u001b[0m \u001b[0mdriver\u001b[0m\u001b[1;33m.\u001b[0m\u001b[0mfind_element\u001b[0m\u001b[1;33m(\u001b[0m\u001b[0mBy\u001b[0m\u001b[1;33m.\u001b[0m\u001b[0mCLASS_NAME\u001b[0m\u001b[1;33m,\u001b[0m\u001b[1;34m\"nav-fill\"\u001b[0m\u001b[1;33m)\u001b[0m\u001b[1;33m\u001b[0m\u001b[1;33m\u001b[0m\u001b[0m\n\u001b[1;32m----> 3\u001b[1;33m \u001b[0mlappy\u001b[0m\u001b[1;33m.\u001b[0m\u001b[0msend_keys\u001b[0m\u001b[1;33m(\u001b[0m\u001b[1;34m'laptops'\u001b[0m\u001b[1;33m)\u001b[0m\u001b[1;33m\u001b[0m\u001b[1;33m\u001b[0m\u001b[0m\n\u001b[0m",
      "\u001b[1;32m~\\anaconda3\\lib\\site-packages\\selenium\\webdriver\\remote\\webelement.py\u001b[0m in \u001b[0;36msend_keys\u001b[1;34m(self, *value)\u001b[0m\n\u001b[0;32m    228\u001b[0m                 \u001b[0mvalue\u001b[0m \u001b[1;33m=\u001b[0m \u001b[1;34m\"\\n\"\u001b[0m\u001b[1;33m.\u001b[0m\u001b[0mjoin\u001b[0m\u001b[1;33m(\u001b[0m\u001b[0mremote_files\u001b[0m\u001b[1;33m)\u001b[0m\u001b[1;33m\u001b[0m\u001b[1;33m\u001b[0m\u001b[0m\n\u001b[0;32m    229\u001b[0m \u001b[1;33m\u001b[0m\u001b[0m\n\u001b[1;32m--> 230\u001b[1;33m         self._execute(\n\u001b[0m\u001b[0;32m    231\u001b[0m             \u001b[0mCommand\u001b[0m\u001b[1;33m.\u001b[0m\u001b[0mSEND_KEYS_TO_ELEMENT\u001b[0m\u001b[1;33m,\u001b[0m \u001b[1;33m{\u001b[0m\u001b[1;34m\"text\"\u001b[0m\u001b[1;33m:\u001b[0m \u001b[1;34m\"\"\u001b[0m\u001b[1;33m.\u001b[0m\u001b[0mjoin\u001b[0m\u001b[1;33m(\u001b[0m\u001b[0mkeys_to_typing\u001b[0m\u001b[1;33m(\u001b[0m\u001b[0mvalue\u001b[0m\u001b[1;33m)\u001b[0m\u001b[1;33m)\u001b[0m\u001b[1;33m,\u001b[0m \u001b[1;34m\"value\"\u001b[0m\u001b[1;33m:\u001b[0m \u001b[0mkeys_to_typing\u001b[0m\u001b[1;33m(\u001b[0m\u001b[0mvalue\u001b[0m\u001b[1;33m)\u001b[0m\u001b[1;33m}\u001b[0m\u001b[1;33m\u001b[0m\u001b[1;33m\u001b[0m\u001b[0m\n\u001b[0;32m    232\u001b[0m         )\n",
      "\u001b[1;32m~\\anaconda3\\lib\\site-packages\\selenium\\webdriver\\remote\\webelement.py\u001b[0m in \u001b[0;36m_execute\u001b[1;34m(self, command, params)\u001b[0m\n\u001b[0;32m    392\u001b[0m             \u001b[0mparams\u001b[0m \u001b[1;33m=\u001b[0m \u001b[1;33m{\u001b[0m\u001b[1;33m}\u001b[0m\u001b[1;33m\u001b[0m\u001b[1;33m\u001b[0m\u001b[0m\n\u001b[0;32m    393\u001b[0m         \u001b[0mparams\u001b[0m\u001b[1;33m[\u001b[0m\u001b[1;34m\"id\"\u001b[0m\u001b[1;33m]\u001b[0m \u001b[1;33m=\u001b[0m \u001b[0mself\u001b[0m\u001b[1;33m.\u001b[0m\u001b[0m_id\u001b[0m\u001b[1;33m\u001b[0m\u001b[1;33m\u001b[0m\u001b[0m\n\u001b[1;32m--> 394\u001b[1;33m         \u001b[1;32mreturn\u001b[0m \u001b[0mself\u001b[0m\u001b[1;33m.\u001b[0m\u001b[0m_parent\u001b[0m\u001b[1;33m.\u001b[0m\u001b[0mexecute\u001b[0m\u001b[1;33m(\u001b[0m\u001b[0mcommand\u001b[0m\u001b[1;33m,\u001b[0m \u001b[0mparams\u001b[0m\u001b[1;33m)\u001b[0m\u001b[1;33m\u001b[0m\u001b[1;33m\u001b[0m\u001b[0m\n\u001b[0m\u001b[0;32m    395\u001b[0m \u001b[1;33m\u001b[0m\u001b[0m\n\u001b[0;32m    396\u001b[0m     \u001b[1;32mdef\u001b[0m \u001b[0mfind_element\u001b[0m\u001b[1;33m(\u001b[0m\u001b[0mself\u001b[0m\u001b[1;33m,\u001b[0m \u001b[0mby\u001b[0m\u001b[1;33m=\u001b[0m\u001b[0mBy\u001b[0m\u001b[1;33m.\u001b[0m\u001b[0mID\u001b[0m\u001b[1;33m,\u001b[0m \u001b[0mvalue\u001b[0m\u001b[1;33m=\u001b[0m\u001b[1;32mNone\u001b[0m\u001b[1;33m)\u001b[0m \u001b[1;33m->\u001b[0m \u001b[0mWebElement\u001b[0m\u001b[1;33m:\u001b[0m\u001b[1;33m\u001b[0m\u001b[1;33m\u001b[0m\u001b[0m\n",
      "\u001b[1;32m~\\anaconda3\\lib\\site-packages\\selenium\\webdriver\\remote\\webdriver.py\u001b[0m in \u001b[0;36mexecute\u001b[1;34m(self, driver_command, params)\u001b[0m\n\u001b[0;32m    342\u001b[0m         \u001b[0mresponse\u001b[0m \u001b[1;33m=\u001b[0m \u001b[0mself\u001b[0m\u001b[1;33m.\u001b[0m\u001b[0mcommand_executor\u001b[0m\u001b[1;33m.\u001b[0m\u001b[0mexecute\u001b[0m\u001b[1;33m(\u001b[0m\u001b[0mdriver_command\u001b[0m\u001b[1;33m,\u001b[0m \u001b[0mparams\u001b[0m\u001b[1;33m)\u001b[0m\u001b[1;33m\u001b[0m\u001b[1;33m\u001b[0m\u001b[0m\n\u001b[0;32m    343\u001b[0m         \u001b[1;32mif\u001b[0m \u001b[0mresponse\u001b[0m\u001b[1;33m:\u001b[0m\u001b[1;33m\u001b[0m\u001b[1;33m\u001b[0m\u001b[0m\n\u001b[1;32m--> 344\u001b[1;33m             \u001b[0mself\u001b[0m\u001b[1;33m.\u001b[0m\u001b[0merror_handler\u001b[0m\u001b[1;33m.\u001b[0m\u001b[0mcheck_response\u001b[0m\u001b[1;33m(\u001b[0m\u001b[0mresponse\u001b[0m\u001b[1;33m)\u001b[0m\u001b[1;33m\u001b[0m\u001b[1;33m\u001b[0m\u001b[0m\n\u001b[0m\u001b[0;32m    345\u001b[0m             \u001b[0mresponse\u001b[0m\u001b[1;33m[\u001b[0m\u001b[1;34m\"value\"\u001b[0m\u001b[1;33m]\u001b[0m \u001b[1;33m=\u001b[0m \u001b[0mself\u001b[0m\u001b[1;33m.\u001b[0m\u001b[0m_unwrap_value\u001b[0m\u001b[1;33m(\u001b[0m\u001b[0mresponse\u001b[0m\u001b[1;33m.\u001b[0m\u001b[0mget\u001b[0m\u001b[1;33m(\u001b[0m\u001b[1;34m\"value\"\u001b[0m\u001b[1;33m,\u001b[0m \u001b[1;32mNone\u001b[0m\u001b[1;33m)\u001b[0m\u001b[1;33m)\u001b[0m\u001b[1;33m\u001b[0m\u001b[1;33m\u001b[0m\u001b[0m\n\u001b[0;32m    346\u001b[0m             \u001b[1;32mreturn\u001b[0m \u001b[0mresponse\u001b[0m\u001b[1;33m\u001b[0m\u001b[1;33m\u001b[0m\u001b[0m\n",
      "\u001b[1;32m~\\anaconda3\\lib\\site-packages\\selenium\\webdriver\\remote\\errorhandler.py\u001b[0m in \u001b[0;36mcheck_response\u001b[1;34m(self, response)\u001b[0m\n\u001b[0;32m    227\u001b[0m                 \u001b[0malert_text\u001b[0m \u001b[1;33m=\u001b[0m \u001b[0mvalue\u001b[0m\u001b[1;33m[\u001b[0m\u001b[1;34m\"alert\"\u001b[0m\u001b[1;33m]\u001b[0m\u001b[1;33m.\u001b[0m\u001b[0mget\u001b[0m\u001b[1;33m(\u001b[0m\u001b[1;34m\"text\"\u001b[0m\u001b[1;33m)\u001b[0m\u001b[1;33m\u001b[0m\u001b[1;33m\u001b[0m\u001b[0m\n\u001b[0;32m    228\u001b[0m             \u001b[1;32mraise\u001b[0m \u001b[0mexception_class\u001b[0m\u001b[1;33m(\u001b[0m\u001b[0mmessage\u001b[0m\u001b[1;33m,\u001b[0m \u001b[0mscreen\u001b[0m\u001b[1;33m,\u001b[0m \u001b[0mstacktrace\u001b[0m\u001b[1;33m,\u001b[0m \u001b[0malert_text\u001b[0m\u001b[1;33m)\u001b[0m  \u001b[1;31m# type: ignore[call-arg]  # mypy is not smart enough here\u001b[0m\u001b[1;33m\u001b[0m\u001b[1;33m\u001b[0m\u001b[0m\n\u001b[1;32m--> 229\u001b[1;33m         \u001b[1;32mraise\u001b[0m \u001b[0mexception_class\u001b[0m\u001b[1;33m(\u001b[0m\u001b[0mmessage\u001b[0m\u001b[1;33m,\u001b[0m \u001b[0mscreen\u001b[0m\u001b[1;33m,\u001b[0m \u001b[0mstacktrace\u001b[0m\u001b[1;33m)\u001b[0m\u001b[1;33m\u001b[0m\u001b[1;33m\u001b[0m\u001b[0m\n\u001b[0m",
      "\u001b[1;31mElementNotInteractableException\u001b[0m: Message: element not interactable\n  (Session info: chrome=117.0.5938.92)\nStacktrace:\n\tGetHandleVerifier [0x00007FF67D3D7892+54818]\n\t(No symbol) [0x00007FF67D346AC2]\n\t(No symbol) [0x00007FF67D1FD8ED]\n\t(No symbol) [0x00007FF67D239967]\n\t(No symbol) [0x00007FF67D238CD4]\n\t(No symbol) [0x00007FF67D25EAAA]\n\t(No symbol) [0x00007FF67D235036]\n\t(No symbol) [0x00007FF67D25ECC0]\n\t(No symbol) [0x00007FF67D2775A2]\n\t(No symbol) [0x00007FF67D25E883]\n\t(No symbol) [0x00007FF67D233691]\n\t(No symbol) [0x00007FF67D2348D4]\n\tGetHandleVerifier [0x00007FF67D73B992+3610402]\n\tGetHandleVerifier [0x00007FF67D791860+3962352]\n\tGetHandleVerifier [0x00007FF67D789D4F+3930847]\n\tGetHandleVerifier [0x00007FF67D473646+693206]\n\t(No symbol) [0x00007FF67D351628]\n\t(No symbol) [0x00007FF67D34D934]\n\t(No symbol) [0x00007FF67D34DA62]\n\t(No symbol) [0x00007FF67D33E113]\n\tBaseThreadInitThunk [0x00007FF8068A7344+20]\n\tRtlUserThreadStart [0x00007FF8088826B1+33]\n"
     ]
    }
   ],
   "source": [
    "# searching for laptops\n",
    "lappy = driver.find_element(By.CLASS_NAME,\"nav-fill\")\n",
    "lappy.send_keys('laptops')"
   ]
  },
  {
   "cell_type": "markdown",
   "id": "c5cb750e",
   "metadata": {},
   "source": [
    "# Q8: Write a python program to scrape data for Top 1000 Quotes of All Time.\n",
    "The above task will be done in following steps:\n",
    "1. First get the webpagehttps://www.azquotes.com/\n",
    "2. Click on Top Quotes\n",
    "3. Than scrap a) Quote b) Author c) Type Of Quotes"
   ]
  },
  {
   "cell_type": "code",
   "execution_count": 182,
   "id": "ec524fdb",
   "metadata": {},
   "outputs": [],
   "source": [
    "driver = webdriver.Chrome()"
   ]
  },
  {
   "cell_type": "code",
   "execution_count": 183,
   "id": "06d97471",
   "metadata": {},
   "outputs": [],
   "source": [
    "# opening the azquotes page on automated chrome browser\n",
    "driver.get(\"https://www.azquotes.com/\")"
   ]
  },
  {
   "cell_type": "code",
   "execution_count": 186,
   "id": "6c47bd18",
   "metadata": {},
   "outputs": [],
   "source": [
    "# opening top quotes by clicking\n",
    "press = driver.find_element(By.XPATH,\"/html/body/div[1]/div[1]/div[1]/div/div[3]/ul/li[5]/a\")\n",
    "press.click()"
   ]
  },
  {
   "cell_type": "code",
   "execution_count": 195,
   "id": "c9e46aa2",
   "metadata": {},
   "outputs": [],
   "source": [
    "# creating empty lists\n",
    "quote = []\n",
    "author = []\n",
    "type_of_quotes = []"
   ]
  },
  {
   "cell_type": "code",
   "execution_count": 196,
   "id": "eb830c65",
   "metadata": {},
   "outputs": [],
   "source": [
    "# scrapping quotes, Author and type of quotes\n",
    "start=0\n",
    "end=10\n",
    "for page in range(start,end):\n",
    "    no_of_quotes = driver.find_elements(By.XPATH,'//a[@class=\"title\"]')\n",
    "    for i in no_of_quotes:\n",
    "        quote.append(i.text)\n",
    "    button=driver.find_element(By.XPATH,'//li[@class=\"next inactive\"]') # to scrape data from next page\n",
    "    button.click()\n",
    "    time.sleep(3)\n"
   ]
  },
  {
   "cell_type": "code",
   "execution_count": 197,
   "id": "f800be0b",
   "metadata": {},
   "outputs": [],
   "source": [
    "start=0\n",
    "end=10\n",
    "for page in range(start,end):\n",
    "    no_of_author = driver.find_elements(By.XPATH,'//div[@class=\"author\"]')\n",
    "    for i in no_of_author:\n",
    "        author.append(i.text)\n",
    "    button=driver.find_element(By.XPATH,'//li[@class=\"next inactive\"]') # to scrape data from next page\n",
    "    button.click()\n",
    "    time.sleep(3)"
   ]
  },
  {
   "cell_type": "code",
   "execution_count": 198,
   "id": "41b03084",
   "metadata": {},
   "outputs": [],
   "source": [
    "start=0\n",
    "end=10\n",
    "for page in range(start,end):\n",
    "    ty_quote = driver.find_elements(By.XPATH,'//div[@class=\"tags\"]')\n",
    "    for i in ty_quote:\n",
    "        type_of_quotes.append(i.text)\n",
    "    button=driver.find_element(By.XPATH,'//li[@class=\"next inactive\"]') # to scrape data from next page\n",
    "    button.click()\n",
    "    time.sleep(3)"
   ]
  },
  {
   "cell_type": "code",
   "execution_count": 199,
   "id": "9fce1bc0",
   "metadata": {},
   "outputs": [
    {
     "name": "stdout",
     "output_type": "stream",
     "text": [
      "1000 1000 1000\n"
     ]
    }
   ],
   "source": [
    "print(len(quote),len(author),len(type_of_quotes))"
   ]
  },
  {
   "cell_type": "markdown",
   "id": "f5373d76",
   "metadata": {},
   "source": [
    "# Q9: Write a python program to display list of respected former Prime Ministers of India(i.e. Name, Born-Dead, Term of office, Remarks) from https://www.jagranjosh.com/.\n",
    "This task will be done in following steps:\n",
    "1. First get the webpagehttps://www.jagranjosh.com/\n",
    "2. Then You have to click on the GK option\n",
    "3. Then click on the List of all Prime Ministers of India\n",
    "4. Then scrap the mentioned data and make theDataFrame."
   ]
  },
  {
   "cell_type": "code",
   "execution_count": 200,
   "id": "f45c4d0a",
   "metadata": {},
   "outputs": [],
   "source": [
    "driver = webdriver.Chrome()"
   ]
  },
  {
   "cell_type": "code",
   "execution_count": 201,
   "id": "9beb725b",
   "metadata": {},
   "outputs": [],
   "source": [
    "# opening the jagranjosh page on automated chrome browser\n",
    "driver.get(\"https://www.jagranjosh.com/\")"
   ]
  },
  {
   "cell_type": "code",
   "execution_count": 202,
   "id": "71354c45",
   "metadata": {},
   "outputs": [],
   "source": [
    "# opening GK section by clicking\n",
    "press = driver.find_element(By.XPATH,\"/html/body/div/header/nav/div/div/div[3]/ul/li[3]/a\")\n",
    "press.click()"
   ]
  },
  {
   "cell_type": "code",
   "execution_count": 203,
   "id": "52c85bc1",
   "metadata": {},
   "outputs": [],
   "source": [
    "# opening list of all Prime Minister by clicking\n",
    "press = driver.find_element(By.XPATH,\"/html/body/div[1]/div/div/div[2]/div/div[10]/div/div/ul/li[2]/a\")\n",
    "press.click()"
   ]
  },
  {
   "cell_type": "code",
   "execution_count": 204,
   "id": "95edae11",
   "metadata": {},
   "outputs": [],
   "source": [
    "Name = []\n",
    "Born_Dead = []\n",
    "Term_of_office = []\n",
    "remarks = []"
   ]
  },
  {
   "cell_type": "code",
   "execution_count": 206,
   "id": "d77a1a64",
   "metadata": {},
   "outputs": [],
   "source": [
    "# scrapping the name of the Prime Ministers\n",
    "P_M_name = driver.find_elements(By.XPATH,'/html/body/div[1]/div[2]/div/div[2]/div/div[1]/div/div/div/div[4]/span/div[3]/table/tbody/tr[2]/td[2]/p/strong/a')\n",
    "for p in P_M_name:\n",
    "    Name.append(p.text)"
   ]
  },
  {
   "cell_type": "code",
   "execution_count": 208,
   "id": "bc4326c5",
   "metadata": {},
   "outputs": [],
   "source": [
    "# scrapping the birth and death of the Prime Ministers\n",
    "birth_death = driver.find_elements(By.XPATH,'/html/body/div[1]/div[2]/div/div[2]/div/div[1]/div/div/div/div[4]/span/div[3]/table/tbody/tr[2]/td[2]/p/strong/a')\n",
    "for p in birth_death:\n",
    "    Born_Dead.append(p.text)"
   ]
  },
  {
   "cell_type": "code",
   "execution_count": 209,
   "id": "57a8eda3",
   "metadata": {},
   "outputs": [],
   "source": [
    "# scrapping Term_of_office\n",
    "office_term = driver.find_elements(By.XPATH,'/html/body/div[1]/div[2]/div/div[2]/div/div[1]/div/div/div/div[4]/span/div[3]/table/tbody/tr[2]/td[2]/p/strong/a')\n",
    "for p in office_term:\n",
    "    Term_of_office.append(p.text)"
   ]
  },
  {
   "cell_type": "code",
   "execution_count": 210,
   "id": "96cb3bf8",
   "metadata": {},
   "outputs": [],
   "source": [
    "# scrapping remarks\n",
    "remarks_P_M = driver.find_elements(By.XPATH,'/html/body/div[1]/div[2]/div/div[2]/div/div[1]/div/div/div/div[4]/span/div[3]/table/tbody/tr[2]/td[2]/p/strong/a')\n",
    "for p in remarks_P_M:\n",
    "    remarks.append(p.text)"
   ]
  },
  {
   "cell_type": "code",
   "execution_count": 213,
   "id": "5e0bea73",
   "metadata": {},
   "outputs": [
    {
     "data": {
      "text/html": [
       "<div>\n",
       "<style scoped>\n",
       "    .dataframe tbody tr th:only-of-type {\n",
       "        vertical-align: middle;\n",
       "    }\n",
       "\n",
       "    .dataframe tbody tr th {\n",
       "        vertical-align: top;\n",
       "    }\n",
       "\n",
       "    .dataframe thead th {\n",
       "        text-align: right;\n",
       "    }\n",
       "</style>\n",
       "<table border=\"1\" class=\"dataframe\">\n",
       "  <thead>\n",
       "    <tr style=\"text-align: right;\">\n",
       "      <th></th>\n",
       "      <th>Name</th>\n",
       "      <th>Born_Dead</th>\n",
       "      <th>Term_of_Office</th>\n",
       "      <th>Remarks</th>\n",
       "    </tr>\n",
       "  </thead>\n",
       "  <tbody>\n",
       "    <tr>\n",
       "      <th>0</th>\n",
       "      <td>Jawahar Lal Nehru</td>\n",
       "      <td>Jawahar Lal Nehru</td>\n",
       "      <td>Jawahar Lal Nehru</td>\n",
       "      <td>Jawahar Lal Nehru</td>\n",
       "    </tr>\n",
       "  </tbody>\n",
       "</table>\n",
       "</div>"
      ],
      "text/plain": [
       "                Name          Born_Dead     Term_of_Office            Remarks\n",
       "0  Jawahar Lal Nehru  Jawahar Lal Nehru  Jawahar Lal Nehru  Jawahar Lal Nehru"
      ]
     },
     "execution_count": 213,
     "metadata": {},
     "output_type": "execute_result"
    }
   ],
   "source": [
    "df=pd.DataFrame({'Name':Name,'Born_Dead':Born_Dead,'Term_of_Office':Term_of_office,'Remarks':remarks})\n",
    "df"
   ]
  },
  {
   "cell_type": "markdown",
   "id": "d6feade1",
   "metadata": {},
   "source": [
    "# Q10: Write a python program to display list of 50 Most expensive cars in the world (i.e. Car name and Price) from https://www.motor1.com/\n",
    "This task will be done in following steps:\n",
    "1. First get the webpage https://www.motor1.com/\n",
    "2. Then You have to type in the search bar ’50 most expensive cars’\n",
    "3. Then click on 50 most expensive cars in the world..\n",
    "4. Then scrap the mentioned data and make the dataframe."
   ]
  },
  {
   "cell_type": "code",
   "execution_count": 227,
   "id": "c596aaae",
   "metadata": {},
   "outputs": [],
   "source": [
    "driver = webdriver.Chrome()"
   ]
  },
  {
   "cell_type": "code",
   "execution_count": 228,
   "id": "67e4cd8e",
   "metadata": {},
   "outputs": [],
   "source": [
    "# opening the motor1 page on automated chrome browser\n",
    "driver.get(\"https://www.motor1.com/\")"
   ]
  },
  {
   "cell_type": "code",
   "execution_count": 231,
   "id": "248205b9",
   "metadata": {},
   "outputs": [
    {
     "ename": "NoSuchElementException",
     "evalue": "Message: no such element: Unable to locate element: {\"method\":\"css selector\",\"selector\":\".m1-search-panel-input m1-search-form-text\"}\n  (Session info: chrome=117.0.5938.92); For documentation on this error, please visit: https://www.selenium.dev/documentation/webdriver/troubleshooting/errors#no-such-element-exception\nStacktrace:\n\tGetHandleVerifier [0x00007FF67D3D7892+54818]\n\t(No symbol) [0x00007FF67D346AC2]\n\t(No symbol) [0x00007FF67D1FDA3B]\n\t(No symbol) [0x00007FF67D23E4FC]\n\t(No symbol) [0x00007FF67D23E67C]\n\t(No symbol) [0x00007FF67D279627]\n\t(No symbol) [0x00007FF67D25EAEF]\n\t(No symbol) [0x00007FF67D2775A2]\n\t(No symbol) [0x00007FF67D25E883]\n\t(No symbol) [0x00007FF67D233691]\n\t(No symbol) [0x00007FF67D2348D4]\n\tGetHandleVerifier [0x00007FF67D73B992+3610402]\n\tGetHandleVerifier [0x00007FF67D791860+3962352]\n\tGetHandleVerifier [0x00007FF67D789D4F+3930847]\n\tGetHandleVerifier [0x00007FF67D473646+693206]\n\t(No symbol) [0x00007FF67D351628]\n\t(No symbol) [0x00007FF67D34D934]\n\t(No symbol) [0x00007FF67D34DA62]\n\t(No symbol) [0x00007FF67D33E113]\n\tBaseThreadInitThunk [0x00007FF8068A7344+20]\n\tRtlUserThreadStart [0x00007FF8088826B1+33]\n",
     "output_type": "error",
     "traceback": [
      "\u001b[1;31m---------------------------------------------------------------------------\u001b[0m",
      "\u001b[1;31mNoSuchElementException\u001b[0m                    Traceback (most recent call last)",
      "\u001b[1;32m~\\AppData\\Local\\Temp\\ipykernel_14348\\2549293947.py\u001b[0m in \u001b[0;36m<module>\u001b[1;34m\u001b[0m\n\u001b[0;32m      1\u001b[0m \u001b[1;31m# searching 50 most expensive cars in the world\u001b[0m\u001b[1;33m\u001b[0m\u001b[1;33m\u001b[0m\u001b[0m\n\u001b[1;32m----> 2\u001b[1;33m \u001b[0mcars\u001b[0m \u001b[1;33m=\u001b[0m \u001b[0mdriver\u001b[0m\u001b[1;33m.\u001b[0m\u001b[0mfind_element\u001b[0m\u001b[1;33m(\u001b[0m\u001b[0mBy\u001b[0m\u001b[1;33m.\u001b[0m\u001b[0mCLASS_NAME\u001b[0m\u001b[1;33m,\u001b[0m\u001b[1;34m\"m1-search-panel-input m1-search-form-text\"\u001b[0m\u001b[1;33m)\u001b[0m\u001b[1;33m\u001b[0m\u001b[1;33m\u001b[0m\u001b[0m\n\u001b[0m\u001b[0;32m      3\u001b[0m \u001b[0mcars\u001b[0m\u001b[1;33m.\u001b[0m\u001b[0msend_keys\u001b[0m\u001b[1;33m(\u001b[0m\u001b[1;34m'50 most expensive cars'\u001b[0m\u001b[1;33m)\u001b[0m\u001b[1;33m\u001b[0m\u001b[1;33m\u001b[0m\u001b[0m\n",
      "\u001b[1;32m~\\anaconda3\\lib\\site-packages\\selenium\\webdriver\\remote\\webdriver.py\u001b[0m in \u001b[0;36mfind_element\u001b[1;34m(self, by, value)\u001b[0m\n\u001b[0;32m    736\u001b[0m             \u001b[0mvalue\u001b[0m \u001b[1;33m=\u001b[0m \u001b[1;34mf'[name=\"{value}\"]'\u001b[0m\u001b[1;33m\u001b[0m\u001b[1;33m\u001b[0m\u001b[0m\n\u001b[0;32m    737\u001b[0m \u001b[1;33m\u001b[0m\u001b[0m\n\u001b[1;32m--> 738\u001b[1;33m         \u001b[1;32mreturn\u001b[0m \u001b[0mself\u001b[0m\u001b[1;33m.\u001b[0m\u001b[0mexecute\u001b[0m\u001b[1;33m(\u001b[0m\u001b[0mCommand\u001b[0m\u001b[1;33m.\u001b[0m\u001b[0mFIND_ELEMENT\u001b[0m\u001b[1;33m,\u001b[0m \u001b[1;33m{\u001b[0m\u001b[1;34m\"using\"\u001b[0m\u001b[1;33m:\u001b[0m \u001b[0mby\u001b[0m\u001b[1;33m,\u001b[0m \u001b[1;34m\"value\"\u001b[0m\u001b[1;33m:\u001b[0m \u001b[0mvalue\u001b[0m\u001b[1;33m}\u001b[0m\u001b[1;33m)\u001b[0m\u001b[1;33m[\u001b[0m\u001b[1;34m\"value\"\u001b[0m\u001b[1;33m]\u001b[0m\u001b[1;33m\u001b[0m\u001b[1;33m\u001b[0m\u001b[0m\n\u001b[0m\u001b[0;32m    739\u001b[0m \u001b[1;33m\u001b[0m\u001b[0m\n\u001b[0;32m    740\u001b[0m     \u001b[1;32mdef\u001b[0m \u001b[0mfind_elements\u001b[0m\u001b[1;33m(\u001b[0m\u001b[0mself\u001b[0m\u001b[1;33m,\u001b[0m \u001b[0mby\u001b[0m\u001b[1;33m=\u001b[0m\u001b[0mBy\u001b[0m\u001b[1;33m.\u001b[0m\u001b[0mID\u001b[0m\u001b[1;33m,\u001b[0m \u001b[0mvalue\u001b[0m\u001b[1;33m:\u001b[0m \u001b[0mOptional\u001b[0m\u001b[1;33m[\u001b[0m\u001b[0mstr\u001b[0m\u001b[1;33m]\u001b[0m \u001b[1;33m=\u001b[0m \u001b[1;32mNone\u001b[0m\u001b[1;33m)\u001b[0m \u001b[1;33m->\u001b[0m \u001b[0mList\u001b[0m\u001b[1;33m[\u001b[0m\u001b[0mWebElement\u001b[0m\u001b[1;33m]\u001b[0m\u001b[1;33m:\u001b[0m\u001b[1;33m\u001b[0m\u001b[1;33m\u001b[0m\u001b[0m\n",
      "\u001b[1;32m~\\anaconda3\\lib\\site-packages\\selenium\\webdriver\\remote\\webdriver.py\u001b[0m in \u001b[0;36mexecute\u001b[1;34m(self, driver_command, params)\u001b[0m\n\u001b[0;32m    342\u001b[0m         \u001b[0mresponse\u001b[0m \u001b[1;33m=\u001b[0m \u001b[0mself\u001b[0m\u001b[1;33m.\u001b[0m\u001b[0mcommand_executor\u001b[0m\u001b[1;33m.\u001b[0m\u001b[0mexecute\u001b[0m\u001b[1;33m(\u001b[0m\u001b[0mdriver_command\u001b[0m\u001b[1;33m,\u001b[0m \u001b[0mparams\u001b[0m\u001b[1;33m)\u001b[0m\u001b[1;33m\u001b[0m\u001b[1;33m\u001b[0m\u001b[0m\n\u001b[0;32m    343\u001b[0m         \u001b[1;32mif\u001b[0m \u001b[0mresponse\u001b[0m\u001b[1;33m:\u001b[0m\u001b[1;33m\u001b[0m\u001b[1;33m\u001b[0m\u001b[0m\n\u001b[1;32m--> 344\u001b[1;33m             \u001b[0mself\u001b[0m\u001b[1;33m.\u001b[0m\u001b[0merror_handler\u001b[0m\u001b[1;33m.\u001b[0m\u001b[0mcheck_response\u001b[0m\u001b[1;33m(\u001b[0m\u001b[0mresponse\u001b[0m\u001b[1;33m)\u001b[0m\u001b[1;33m\u001b[0m\u001b[1;33m\u001b[0m\u001b[0m\n\u001b[0m\u001b[0;32m    345\u001b[0m             \u001b[0mresponse\u001b[0m\u001b[1;33m[\u001b[0m\u001b[1;34m\"value\"\u001b[0m\u001b[1;33m]\u001b[0m \u001b[1;33m=\u001b[0m \u001b[0mself\u001b[0m\u001b[1;33m.\u001b[0m\u001b[0m_unwrap_value\u001b[0m\u001b[1;33m(\u001b[0m\u001b[0mresponse\u001b[0m\u001b[1;33m.\u001b[0m\u001b[0mget\u001b[0m\u001b[1;33m(\u001b[0m\u001b[1;34m\"value\"\u001b[0m\u001b[1;33m,\u001b[0m \u001b[1;32mNone\u001b[0m\u001b[1;33m)\u001b[0m\u001b[1;33m)\u001b[0m\u001b[1;33m\u001b[0m\u001b[1;33m\u001b[0m\u001b[0m\n\u001b[0;32m    346\u001b[0m             \u001b[1;32mreturn\u001b[0m \u001b[0mresponse\u001b[0m\u001b[1;33m\u001b[0m\u001b[1;33m\u001b[0m\u001b[0m\n",
      "\u001b[1;32m~\\anaconda3\\lib\\site-packages\\selenium\\webdriver\\remote\\errorhandler.py\u001b[0m in \u001b[0;36mcheck_response\u001b[1;34m(self, response)\u001b[0m\n\u001b[0;32m    227\u001b[0m                 \u001b[0malert_text\u001b[0m \u001b[1;33m=\u001b[0m \u001b[0mvalue\u001b[0m\u001b[1;33m[\u001b[0m\u001b[1;34m\"alert\"\u001b[0m\u001b[1;33m]\u001b[0m\u001b[1;33m.\u001b[0m\u001b[0mget\u001b[0m\u001b[1;33m(\u001b[0m\u001b[1;34m\"text\"\u001b[0m\u001b[1;33m)\u001b[0m\u001b[1;33m\u001b[0m\u001b[1;33m\u001b[0m\u001b[0m\n\u001b[0;32m    228\u001b[0m             \u001b[1;32mraise\u001b[0m \u001b[0mexception_class\u001b[0m\u001b[1;33m(\u001b[0m\u001b[0mmessage\u001b[0m\u001b[1;33m,\u001b[0m \u001b[0mscreen\u001b[0m\u001b[1;33m,\u001b[0m \u001b[0mstacktrace\u001b[0m\u001b[1;33m,\u001b[0m \u001b[0malert_text\u001b[0m\u001b[1;33m)\u001b[0m  \u001b[1;31m# type: ignore[call-arg]  # mypy is not smart enough here\u001b[0m\u001b[1;33m\u001b[0m\u001b[1;33m\u001b[0m\u001b[0m\n\u001b[1;32m--> 229\u001b[1;33m         \u001b[1;32mraise\u001b[0m \u001b[0mexception_class\u001b[0m\u001b[1;33m(\u001b[0m\u001b[0mmessage\u001b[0m\u001b[1;33m,\u001b[0m \u001b[0mscreen\u001b[0m\u001b[1;33m,\u001b[0m \u001b[0mstacktrace\u001b[0m\u001b[1;33m)\u001b[0m\u001b[1;33m\u001b[0m\u001b[1;33m\u001b[0m\u001b[0m\n\u001b[0m",
      "\u001b[1;31mNoSuchElementException\u001b[0m: Message: no such element: Unable to locate element: {\"method\":\"css selector\",\"selector\":\".m1-search-panel-input m1-search-form-text\"}\n  (Session info: chrome=117.0.5938.92); For documentation on this error, please visit: https://www.selenium.dev/documentation/webdriver/troubleshooting/errors#no-such-element-exception\nStacktrace:\n\tGetHandleVerifier [0x00007FF67D3D7892+54818]\n\t(No symbol) [0x00007FF67D346AC2]\n\t(No symbol) [0x00007FF67D1FDA3B]\n\t(No symbol) [0x00007FF67D23E4FC]\n\t(No symbol) [0x00007FF67D23E67C]\n\t(No symbol) [0x00007FF67D279627]\n\t(No symbol) [0x00007FF67D25EAEF]\n\t(No symbol) [0x00007FF67D2775A2]\n\t(No symbol) [0x00007FF67D25E883]\n\t(No symbol) [0x00007FF67D233691]\n\t(No symbol) [0x00007FF67D2348D4]\n\tGetHandleVerifier [0x00007FF67D73B992+3610402]\n\tGetHandleVerifier [0x00007FF67D791860+3962352]\n\tGetHandleVerifier [0x00007FF67D789D4F+3930847]\n\tGetHandleVerifier [0x00007FF67D473646+693206]\n\t(No symbol) [0x00007FF67D351628]\n\t(No symbol) [0x00007FF67D34D934]\n\t(No symbol) [0x00007FF67D34DA62]\n\t(No symbol) [0x00007FF67D33E113]\n\tBaseThreadInitThunk [0x00007FF8068A7344+20]\n\tRtlUserThreadStart [0x00007FF8088826B1+33]\n"
     ]
    }
   ],
   "source": [
    "# searching 50 most expensive cars in the world\n",
    "cars = driver.find_element(By.CLASS_NAME,\"m1-search-panel-input m1-search-form-text\")\n",
    "cars.send_keys('50 most expensive cars')"
   ]
  },
  {
   "cell_type": "code",
   "execution_count": null,
   "id": "d1a72fa7",
   "metadata": {},
   "outputs": [],
   "source": []
  }
 ],
 "metadata": {
  "kernelspec": {
   "display_name": "Python 3 (ipykernel)",
   "language": "python",
   "name": "python3"
  },
  "language_info": {
   "codemirror_mode": {
    "name": "ipython",
    "version": 3
   },
   "file_extension": ".py",
   "mimetype": "text/x-python",
   "name": "python",
   "nbconvert_exporter": "python",
   "pygments_lexer": "ipython3",
   "version": "3.9.13"
  }
 },
 "nbformat": 4,
 "nbformat_minor": 5
}
